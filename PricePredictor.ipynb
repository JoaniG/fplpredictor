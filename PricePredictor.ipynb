{
 "cells": [
  {
   "cell_type": "markdown",
   "source": [
    "### Fantasy Premier Leage player price change predictor\n",
    "\n",
    "Fantasy Premier League (FPL), is an online game where users have a certain budget (100) to get the best performing players.\n",
    "The players get points by scoring goals, providing assists or keeping clean sheets if they're a defender or goalkeeper (+ others).\n",
    "The highest performing players usually have a bigger price tag at the beginning of the season. Depending on how a player performs and how many users are transferring him in or out of their squad, the player might get a price rise or price drop by 0.1. This can happen every gameweek.\n",
    "\n",
    "In this project I'm trying to create a model that accurately predicts if a player will have a price drop or price rise (or remain unchanged).\n",
    "Since there are 3 possible outcomes, this is a non-binary classification model."
   ],
   "metadata": {
    "collapsed": false
   },
   "id": "a5ce59d35c1782f2"
  },
  {
   "cell_type": "code",
   "execution_count": 105,
   "outputs": [],
   "source": [
    "import requests\n",
    "import pandas as pd\n",
    "import numpy as np\n",
    "import seaborn as sns\n",
    "import matplotlib.pyplot as plt\n",
    "from sklearn.svm import SVC\n",
    "from sklearn.model_selection import train_test_split\n",
    "from sklearn.metrics import accuracy_score, classification_report, confusion_matrix\n",
    "from sklearn.ensemble import RandomForestClassifier\n",
    "from sklearn.preprocessing import StandardScaler\n",
    "from pycaret.classification import *\n",
    "from sklearn.metrics import mean_squared_error\n",
    "import xgboost as xgb\n",
    "import tensorflow as tf\n",
    "from tensorflow import keras\n",
    "from keras.models import Sequential\n",
    "from keras.layers import Dense, Dropout, LeakyReLU\n",
    "from keras.regularizers import l1_l2\n",
    "from keras.optimizers import Adam\n",
    "from keras.callbacks import EarlyStopping\n",
    "from keras.wrappers.scikit_learn import KerasClassifier\n",
    "from sklearn.model_selection import GridSearchCV, RandomizedSearchCV\n",
    "from sklearn.ensemble import VotingClassifier\n",
    "import joblib\n",
    "pd.options.mode.chained_assignment = None"
   ],
   "metadata": {
    "collapsed": false,
    "ExecuteTime": {
     "end_time": "2023-12-05T21:53:52.393528400Z",
     "start_time": "2023-12-05T21:53:52.376055800Z"
    }
   },
   "id": "ca9111a07e3c4d8a"
  },
  {
   "cell_type": "markdown",
   "source": [
    "### First we get the data from the API, and then create the dataframe\n",
    "\n",
    "We get various features like total points, transfer balance and more, and also create some other features like delta which shows the percentage of change in selection.\n",
    "We also create the validation column price_change"
   ],
   "metadata": {
    "collapsed": false
   },
   "id": "59c9230b96642d5f"
  },
  {
   "cell_type": "code",
   "execution_count": 2,
   "outputs": [
    {
     "name": "stdout",
     "output_type": "stream",
     "text": [
      "CPU times: total: 5min 6s\n",
      "Wall time: 7min 21s\n"
     ]
    }
   ],
   "source": [
    "%%time\n",
    "\n",
    "data_list = []\n",
    "columns = ['total_points', 'value', 'selected', 'goals_scored', 'assists', 'clean_sheets', 'transfers_in', 'transfers_out', 'transfers_balance', 'delta', 'player_id', 'round', 'price_change']\n",
    "\n",
    "for i in range(1,730): # We're getting data from 730 players\n",
    "    if(i == 612):\n",
    "        continue # This page was empty\n",
    "    url = f'https://fantasy.premierleague.com/api/element-summary/{i}/'\n",
    "    r = requests.get(url)\n",
    "    data = r.json()\n",
    "    for gameweek in data['history']:\n",
    "        row = {col: gameweek[col] if col in gameweek else None for col in columns}\n",
    "        row['player_id'] = i\n",
    "        row['price_change'] = 0 # We'll change this later\n",
    "        if(gameweek['selected'] != 0):\n",
    "            row['delta'] = round(gameweek['transfers_balance']/gameweek['selected'] *100, 1)\n",
    "        else:\n",
    "            row['delta'] = 0\n",
    "        data_list.append(row)\n",
    "\n",
    "df = pd.DataFrame(data_list)"
   ],
   "metadata": {
    "collapsed": false,
    "ExecuteTime": {
     "end_time": "2023-12-05T16:36:51.190973800Z",
     "start_time": "2023-12-05T16:29:30.135136100Z"
    }
   },
   "id": "4ade12cddff30bef"
  },
  {
   "cell_type": "code",
   "execution_count": 5,
   "outputs": [],
   "source": [
    "# Set price change to 1 if there was a price rise, and set it to 2 for price drop\n",
    "for i in range(1, df.shape[0]):\n",
    "    currentValue = df.loc[i, 'value']\n",
    "    previousValue = df.loc[i-1, 'value']\n",
    "    currentPlayer = df.loc[i, 'player_id']\n",
    "    previousPlayer = df.loc[i-1, 'player_id']\n",
    "    if(currentPlayer == previousPlayer and currentValue != previousValue):\n",
    "        if(currentValue > previousValue):\n",
    "            df.at[i, 'price_change'] = 1\n",
    "        else:\n",
    "            df.at[i, 'price_change'] = 2"
   ],
   "metadata": {
    "collapsed": false,
    "ExecuteTime": {
     "end_time": "2023-12-05T16:51:48.027139700Z",
     "start_time": "2023-12-05T16:51:47.502419700Z"
    }
   },
   "id": "66e75c80f9d73cf0"
  },
  {
   "cell_type": "code",
   "execution_count": 6,
   "outputs": [],
   "source": [
    "# Add another feature, previous points\n",
    "df['previous_points'] = df['total_points'].shift(1)\n",
    "df['previous_points'] = df['previous_points'].where(df['player_id'] == df['player_id'].shift(1))"
   ],
   "metadata": {
    "collapsed": false,
    "ExecuteTime": {
     "end_time": "2023-12-05T16:51:49.559430900Z",
     "start_time": "2023-12-05T16:51:49.529399500Z"
    }
   },
   "id": "eedaa950c0ea8417"
  },
  {
   "cell_type": "code",
   "execution_count": 7,
   "outputs": [
    {
     "data": {
      "text/plain": "       total_points        value      selected  goals_scored      assists  \\\ncount   9973.000000  9973.000000  9.973000e+03   9973.000000  9973.000000   \nmean       1.129349    48.879073  2.068557e+05      0.042114     0.038705   \nstd        2.323495    10.240774  6.502923e+05      0.221741     0.213151   \nmin       -4.000000    38.000000  0.000000e+00      0.000000     0.000000   \n25%        0.000000    44.000000  3.632000e+03      0.000000     0.000000   \n50%        0.000000    45.000000  1.492800e+04      0.000000     0.000000   \n75%        1.000000    50.000000  8.588200e+04      0.000000     0.000000   \nmax       23.000000   141.000000  9.241818e+06      3.000000     4.000000   \n\n       clean_sheets  transfers_in  transfers_out  transfers_balance  \\\ncount   9973.000000  9.973000e+03   9.973000e+03       9.973000e+03   \nmean       0.068685  1.665434e+04   1.653718e+04       1.171556e+02   \nstd        0.252931  6.822419e+04   6.504001e+04       8.519148e+04   \nmin        0.000000  0.000000e+00   0.000000e+00      -2.176609e+06   \n25%        0.000000  2.000000e+01   1.610000e+02      -1.342000e+03   \n50%        0.000000  3.280000e+02   9.600000e+02      -1.180000e+02   \n75%        0.000000  3.276000e+03   6.306000e+03       2.100000e+01   \nmax        1.000000  1.372076e+06   2.197741e+06       1.337346e+06   \n\n             delta    player_id        round  price_change  previous_points  \ncount  9973.000000  9973.000000  9973.000000   9973.000000      9245.000000  \nmean     -2.190214   357.074301     7.647448      0.175273         1.130665  \nstd      15.421541   206.424457     3.970060      0.544971         2.326269  \nmin    -233.700000     1.000000     1.000000      0.000000        -4.000000  \n25%      -7.200000   179.000000     4.000000      0.000000         0.000000  \n50%      -2.200000   357.000000     8.000000      0.000000         0.000000  \n75%       0.400000   535.000000    11.000000      0.000000         1.000000  \nmax      94.900000   729.000000    14.000000      2.000000        23.000000  ",
      "text/html": "<div>\n<style scoped>\n    .dataframe tbody tr th:only-of-type {\n        vertical-align: middle;\n    }\n\n    .dataframe tbody tr th {\n        vertical-align: top;\n    }\n\n    .dataframe thead th {\n        text-align: right;\n    }\n</style>\n<table border=\"1\" class=\"dataframe\">\n  <thead>\n    <tr style=\"text-align: right;\">\n      <th></th>\n      <th>total_points</th>\n      <th>value</th>\n      <th>selected</th>\n      <th>goals_scored</th>\n      <th>assists</th>\n      <th>clean_sheets</th>\n      <th>transfers_in</th>\n      <th>transfers_out</th>\n      <th>transfers_balance</th>\n      <th>delta</th>\n      <th>player_id</th>\n      <th>round</th>\n      <th>price_change</th>\n      <th>previous_points</th>\n    </tr>\n  </thead>\n  <tbody>\n    <tr>\n      <th>count</th>\n      <td>9973.000000</td>\n      <td>9973.000000</td>\n      <td>9.973000e+03</td>\n      <td>9973.000000</td>\n      <td>9973.000000</td>\n      <td>9973.000000</td>\n      <td>9.973000e+03</td>\n      <td>9.973000e+03</td>\n      <td>9.973000e+03</td>\n      <td>9973.000000</td>\n      <td>9973.000000</td>\n      <td>9973.000000</td>\n      <td>9973.000000</td>\n      <td>9245.000000</td>\n    </tr>\n    <tr>\n      <th>mean</th>\n      <td>1.129349</td>\n      <td>48.879073</td>\n      <td>2.068557e+05</td>\n      <td>0.042114</td>\n      <td>0.038705</td>\n      <td>0.068685</td>\n      <td>1.665434e+04</td>\n      <td>1.653718e+04</td>\n      <td>1.171556e+02</td>\n      <td>-2.190214</td>\n      <td>357.074301</td>\n      <td>7.647448</td>\n      <td>0.175273</td>\n      <td>1.130665</td>\n    </tr>\n    <tr>\n      <th>std</th>\n      <td>2.323495</td>\n      <td>10.240774</td>\n      <td>6.502923e+05</td>\n      <td>0.221741</td>\n      <td>0.213151</td>\n      <td>0.252931</td>\n      <td>6.822419e+04</td>\n      <td>6.504001e+04</td>\n      <td>8.519148e+04</td>\n      <td>15.421541</td>\n      <td>206.424457</td>\n      <td>3.970060</td>\n      <td>0.544971</td>\n      <td>2.326269</td>\n    </tr>\n    <tr>\n      <th>min</th>\n      <td>-4.000000</td>\n      <td>38.000000</td>\n      <td>0.000000e+00</td>\n      <td>0.000000</td>\n      <td>0.000000</td>\n      <td>0.000000</td>\n      <td>0.000000e+00</td>\n      <td>0.000000e+00</td>\n      <td>-2.176609e+06</td>\n      <td>-233.700000</td>\n      <td>1.000000</td>\n      <td>1.000000</td>\n      <td>0.000000</td>\n      <td>-4.000000</td>\n    </tr>\n    <tr>\n      <th>25%</th>\n      <td>0.000000</td>\n      <td>44.000000</td>\n      <td>3.632000e+03</td>\n      <td>0.000000</td>\n      <td>0.000000</td>\n      <td>0.000000</td>\n      <td>2.000000e+01</td>\n      <td>1.610000e+02</td>\n      <td>-1.342000e+03</td>\n      <td>-7.200000</td>\n      <td>179.000000</td>\n      <td>4.000000</td>\n      <td>0.000000</td>\n      <td>0.000000</td>\n    </tr>\n    <tr>\n      <th>50%</th>\n      <td>0.000000</td>\n      <td>45.000000</td>\n      <td>1.492800e+04</td>\n      <td>0.000000</td>\n      <td>0.000000</td>\n      <td>0.000000</td>\n      <td>3.280000e+02</td>\n      <td>9.600000e+02</td>\n      <td>-1.180000e+02</td>\n      <td>-2.200000</td>\n      <td>357.000000</td>\n      <td>8.000000</td>\n      <td>0.000000</td>\n      <td>0.000000</td>\n    </tr>\n    <tr>\n      <th>75%</th>\n      <td>1.000000</td>\n      <td>50.000000</td>\n      <td>8.588200e+04</td>\n      <td>0.000000</td>\n      <td>0.000000</td>\n      <td>0.000000</td>\n      <td>3.276000e+03</td>\n      <td>6.306000e+03</td>\n      <td>2.100000e+01</td>\n      <td>0.400000</td>\n      <td>535.000000</td>\n      <td>11.000000</td>\n      <td>0.000000</td>\n      <td>1.000000</td>\n    </tr>\n    <tr>\n      <th>max</th>\n      <td>23.000000</td>\n      <td>141.000000</td>\n      <td>9.241818e+06</td>\n      <td>3.000000</td>\n      <td>4.000000</td>\n      <td>1.000000</td>\n      <td>1.372076e+06</td>\n      <td>2.197741e+06</td>\n      <td>1.337346e+06</td>\n      <td>94.900000</td>\n      <td>729.000000</td>\n      <td>14.000000</td>\n      <td>2.000000</td>\n      <td>23.000000</td>\n    </tr>\n  </tbody>\n</table>\n</div>"
     },
     "execution_count": 7,
     "metadata": {},
     "output_type": "execute_result"
    }
   ],
   "source": [
    "df.describe()"
   ],
   "metadata": {
    "collapsed": false,
    "ExecuteTime": {
     "end_time": "2023-12-05T16:51:50.842134Z",
     "start_time": "2023-12-05T16:51:50.732534900Z"
    }
   },
   "id": "a89574aa17f2ea61"
  },
  {
   "cell_type": "markdown",
   "source": [
    "#### We need to remove rows where the players are removed from the game"
   ],
   "metadata": {
    "collapsed": false
   },
   "id": "9c93aade85bf0987"
  },
  {
   "cell_type": "code",
   "execution_count": 8,
   "outputs": [
    {
     "data": {
      "text/plain": "      total_points  value  selected  goals_scored  assists  clean_sheets  \\\n1                0     45     63768             0        0             0   \n2                0     45     58109             0        0             0   \n3                0     44     49814             0        0             0   \n15               0     40     34540             0        0             0   \n16               0     40     34131             0        0             0   \n...            ...    ...       ...           ...      ...           ...   \n9968             0     45       118             0        0             0   \n9969             0     45       218             0        0             0   \n9970             0     45       272             0        0             0   \n9971             0     45       329             0        0             0   \n9972             0     45       368             0        0             0   \n\n      transfers_in  transfers_out  transfers_balance  delta  player_id  round  \\\n1             4959           9703              -4744   -7.4          1      2   \n2             2507          10189              -7682  -13.2          1      3   \n3             2558          12254              -9696  -19.5          1      4   \n15            1902           4552              -2650   -7.7          2      2   \n16            1538           3822              -2284   -6.7          2      3   \n...            ...            ...                ...    ...        ...    ...   \n9968           116             22                 94   79.7        729     10   \n9969           109             38                 71   32.6        729     11   \n9970            76             44                 32   11.8        729     12   \n9971            97             63                 34   10.3        729     13   \n9972            67             46                 21    5.7        729     14   \n\n      price_change  previous_points  \n1                0              0.0  \n2                0              0.0  \n3                2              0.0  \n15               0              0.0  \n16               0              0.0  \n...            ...              ...  \n9968             0              0.0  \n9969             0              0.0  \n9970             0              0.0  \n9971             0              0.0  \n9972             0              0.0  \n\n[7646 rows x 14 columns]",
      "text/html": "<div>\n<style scoped>\n    .dataframe tbody tr th:only-of-type {\n        vertical-align: middle;\n    }\n\n    .dataframe tbody tr th {\n        vertical-align: top;\n    }\n\n    .dataframe thead th {\n        text-align: right;\n    }\n</style>\n<table border=\"1\" class=\"dataframe\">\n  <thead>\n    <tr style=\"text-align: right;\">\n      <th></th>\n      <th>total_points</th>\n      <th>value</th>\n      <th>selected</th>\n      <th>goals_scored</th>\n      <th>assists</th>\n      <th>clean_sheets</th>\n      <th>transfers_in</th>\n      <th>transfers_out</th>\n      <th>transfers_balance</th>\n      <th>delta</th>\n      <th>player_id</th>\n      <th>round</th>\n      <th>price_change</th>\n      <th>previous_points</th>\n    </tr>\n  </thead>\n  <tbody>\n    <tr>\n      <th>1</th>\n      <td>0</td>\n      <td>45</td>\n      <td>63768</td>\n      <td>0</td>\n      <td>0</td>\n      <td>0</td>\n      <td>4959</td>\n      <td>9703</td>\n      <td>-4744</td>\n      <td>-7.4</td>\n      <td>1</td>\n      <td>2</td>\n      <td>0</td>\n      <td>0.0</td>\n    </tr>\n    <tr>\n      <th>2</th>\n      <td>0</td>\n      <td>45</td>\n      <td>58109</td>\n      <td>0</td>\n      <td>0</td>\n      <td>0</td>\n      <td>2507</td>\n      <td>10189</td>\n      <td>-7682</td>\n      <td>-13.2</td>\n      <td>1</td>\n      <td>3</td>\n      <td>0</td>\n      <td>0.0</td>\n    </tr>\n    <tr>\n      <th>3</th>\n      <td>0</td>\n      <td>44</td>\n      <td>49814</td>\n      <td>0</td>\n      <td>0</td>\n      <td>0</td>\n      <td>2558</td>\n      <td>12254</td>\n      <td>-9696</td>\n      <td>-19.5</td>\n      <td>1</td>\n      <td>4</td>\n      <td>2</td>\n      <td>0.0</td>\n    </tr>\n    <tr>\n      <th>15</th>\n      <td>0</td>\n      <td>40</td>\n      <td>34540</td>\n      <td>0</td>\n      <td>0</td>\n      <td>0</td>\n      <td>1902</td>\n      <td>4552</td>\n      <td>-2650</td>\n      <td>-7.7</td>\n      <td>2</td>\n      <td>2</td>\n      <td>0</td>\n      <td>0.0</td>\n    </tr>\n    <tr>\n      <th>16</th>\n      <td>0</td>\n      <td>40</td>\n      <td>34131</td>\n      <td>0</td>\n      <td>0</td>\n      <td>0</td>\n      <td>1538</td>\n      <td>3822</td>\n      <td>-2284</td>\n      <td>-6.7</td>\n      <td>2</td>\n      <td>3</td>\n      <td>0</td>\n      <td>0.0</td>\n    </tr>\n    <tr>\n      <th>...</th>\n      <td>...</td>\n      <td>...</td>\n      <td>...</td>\n      <td>...</td>\n      <td>...</td>\n      <td>...</td>\n      <td>...</td>\n      <td>...</td>\n      <td>...</td>\n      <td>...</td>\n      <td>...</td>\n      <td>...</td>\n      <td>...</td>\n      <td>...</td>\n    </tr>\n    <tr>\n      <th>9968</th>\n      <td>0</td>\n      <td>45</td>\n      <td>118</td>\n      <td>0</td>\n      <td>0</td>\n      <td>0</td>\n      <td>116</td>\n      <td>22</td>\n      <td>94</td>\n      <td>79.7</td>\n      <td>729</td>\n      <td>10</td>\n      <td>0</td>\n      <td>0.0</td>\n    </tr>\n    <tr>\n      <th>9969</th>\n      <td>0</td>\n      <td>45</td>\n      <td>218</td>\n      <td>0</td>\n      <td>0</td>\n      <td>0</td>\n      <td>109</td>\n      <td>38</td>\n      <td>71</td>\n      <td>32.6</td>\n      <td>729</td>\n      <td>11</td>\n      <td>0</td>\n      <td>0.0</td>\n    </tr>\n    <tr>\n      <th>9970</th>\n      <td>0</td>\n      <td>45</td>\n      <td>272</td>\n      <td>0</td>\n      <td>0</td>\n      <td>0</td>\n      <td>76</td>\n      <td>44</td>\n      <td>32</td>\n      <td>11.8</td>\n      <td>729</td>\n      <td>12</td>\n      <td>0</td>\n      <td>0.0</td>\n    </tr>\n    <tr>\n      <th>9971</th>\n      <td>0</td>\n      <td>45</td>\n      <td>329</td>\n      <td>0</td>\n      <td>0</td>\n      <td>0</td>\n      <td>97</td>\n      <td>63</td>\n      <td>34</td>\n      <td>10.3</td>\n      <td>729</td>\n      <td>13</td>\n      <td>0</td>\n      <td>0.0</td>\n    </tr>\n    <tr>\n      <th>9972</th>\n      <td>0</td>\n      <td>45</td>\n      <td>368</td>\n      <td>0</td>\n      <td>0</td>\n      <td>0</td>\n      <td>67</td>\n      <td>46</td>\n      <td>21</td>\n      <td>5.7</td>\n      <td>729</td>\n      <td>14</td>\n      <td>0</td>\n      <td>0.0</td>\n    </tr>\n  </tbody>\n</table>\n<p>7646 rows × 14 columns</p>\n</div>"
     },
     "execution_count": 8,
     "metadata": {},
     "output_type": "execute_result"
    }
   ],
   "source": [
    "df = df[df['transfers_in'] != 0]\n",
    "df"
   ],
   "metadata": {
    "collapsed": false,
    "ExecuteTime": {
     "end_time": "2023-12-05T16:52:05.416966300Z",
     "start_time": "2023-12-05T16:52:05.363161100Z"
    }
   },
   "id": "a82beca4cba0af62"
  },
  {
   "cell_type": "code",
   "execution_count": 9,
   "outputs": [],
   "source": [
    "# Save it so we don't have to make API calls everytime we start the project\n",
    "df.to_csv('data.csv', index=False)"
   ],
   "metadata": {
    "collapsed": false,
    "ExecuteTime": {
     "end_time": "2023-12-05T16:52:10.452391Z",
     "start_time": "2023-12-05T16:52:10.385446300Z"
    }
   },
   "id": "ee3a3867f3c0404b"
  },
  {
   "cell_type": "markdown",
   "source": [
    "### Or we can import the data from csv we created before"
   ],
   "metadata": {
    "collapsed": false
   },
   "id": "4ee89b93ea8c20b2"
  },
  {
   "cell_type": "code",
   "execution_count": null,
   "outputs": [],
   "source": [
    "df = pd.read_csv('data.csv')\n",
    "df"
   ],
   "metadata": {
    "collapsed": false
   },
   "id": "798b270c9ec486e3"
  },
  {
   "cell_type": "markdown",
   "source": [
    "### Preprocessing the data"
   ],
   "metadata": {
    "collapsed": false
   },
   "id": "fae89381aa8b1b7e"
  },
  {
   "cell_type": "code",
   "execution_count": 10,
   "outputs": [
    {
     "data": {
      "text/plain": "    previous_points  selected  transfers_balance  delta  price_change  \\\n1               0.0     63768              -4744   -7.4             0   \n2               0.0     58109              -7682  -13.2             0   \n3               0.0     49814              -9696  -19.5             2   \n15              0.0     34540              -2650   -7.7             0   \n16              0.0     34131              -2284   -6.7             0   \n\n    player_id  \n1           1  \n2           1  \n3           1  \n15          2  \n16          2  ",
      "text/html": "<div>\n<style scoped>\n    .dataframe tbody tr th:only-of-type {\n        vertical-align: middle;\n    }\n\n    .dataframe tbody tr th {\n        vertical-align: top;\n    }\n\n    .dataframe thead th {\n        text-align: right;\n    }\n</style>\n<table border=\"1\" class=\"dataframe\">\n  <thead>\n    <tr style=\"text-align: right;\">\n      <th></th>\n      <th>previous_points</th>\n      <th>selected</th>\n      <th>transfers_balance</th>\n      <th>delta</th>\n      <th>price_change</th>\n      <th>player_id</th>\n    </tr>\n  </thead>\n  <tbody>\n    <tr>\n      <th>1</th>\n      <td>0.0</td>\n      <td>63768</td>\n      <td>-4744</td>\n      <td>-7.4</td>\n      <td>0</td>\n      <td>1</td>\n    </tr>\n    <tr>\n      <th>2</th>\n      <td>0.0</td>\n      <td>58109</td>\n      <td>-7682</td>\n      <td>-13.2</td>\n      <td>0</td>\n      <td>1</td>\n    </tr>\n    <tr>\n      <th>3</th>\n      <td>0.0</td>\n      <td>49814</td>\n      <td>-9696</td>\n      <td>-19.5</td>\n      <td>2</td>\n      <td>1</td>\n    </tr>\n    <tr>\n      <th>15</th>\n      <td>0.0</td>\n      <td>34540</td>\n      <td>-2650</td>\n      <td>-7.7</td>\n      <td>0</td>\n      <td>2</td>\n    </tr>\n    <tr>\n      <th>16</th>\n      <td>0.0</td>\n      <td>34131</td>\n      <td>-2284</td>\n      <td>-6.7</td>\n      <td>0</td>\n      <td>2</td>\n    </tr>\n  </tbody>\n</table>\n</div>"
     },
     "execution_count": 10,
     "metadata": {},
     "output_type": "execute_result"
    }
   ],
   "source": [
    "# First we simplify the dataframe\n",
    "columns_to_keep = ['previous_points', 'selected', 'transfers_balance', 'delta', 'price_change', 'player_id']\n",
    "df = df[columns_to_keep]\n",
    "df.head()"
   ],
   "metadata": {
    "collapsed": false,
    "ExecuteTime": {
     "end_time": "2023-12-05T16:52:41.441507600Z",
     "start_time": "2023-12-05T16:52:41.420356200Z"
    }
   },
   "id": "688952d7d5b97cf7"
  },
  {
   "cell_type": "code",
   "execution_count": 11,
   "outputs": [
    {
     "name": "stdout",
     "output_type": "stream",
     "text": [
      "previous_points      42\n",
      "selected              0\n",
      "transfers_balance     0\n",
      "delta                 0\n",
      "price_change          0\n",
      "player_id             0\n",
      "dtype: int64\n"
     ]
    },
    {
     "data": {
      "text/plain": "7646"
     },
     "execution_count": 11,
     "metadata": {},
     "output_type": "execute_result"
    }
   ],
   "source": [
    "#check for null values\n",
    "null_values = df.isnull().sum()\n",
    "print(null_values)\n",
    "df.shape[0]"
   ],
   "metadata": {
    "collapsed": false,
    "ExecuteTime": {
     "end_time": "2023-12-05T16:53:24.735103400Z",
     "start_time": "2023-12-05T16:53:24.711533200Z"
    }
   },
   "id": "dc97cdb84516f05c"
  },
  {
   "cell_type": "code",
   "execution_count": 12,
   "outputs": [
    {
     "data": {
      "text/plain": "7604"
     },
     "execution_count": 12,
     "metadata": {},
     "output_type": "execute_result"
    }
   ],
   "source": [
    "df = df.dropna()\n",
    "df.shape[0]"
   ],
   "metadata": {
    "collapsed": false,
    "ExecuteTime": {
     "end_time": "2023-12-05T16:53:26.800299500Z",
     "start_time": "2023-12-05T16:53:26.789287400Z"
    }
   },
   "id": "caacf09e6d753f1e"
  },
  {
   "cell_type": "markdown",
   "source": [
    "#### Dealing with some outliers\n",
    "\n",
    "We will:\n",
    "1. Remove rows where delta is positive and price falls\n",
    "2. Remove rows where delta is negative and price rises\n",
    "3. Remove rows where delta is extremely high or low and price stays unchanged"
   ],
   "metadata": {
    "collapsed": false
   },
   "id": "eaa3022a065574e9"
  },
  {
   "cell_type": "code",
   "execution_count": 13,
   "outputs": [
    {
     "data": {
      "text/plain": "7533"
     },
     "execution_count": 13,
     "metadata": {},
     "output_type": "execute_result"
    }
   ],
   "source": [
    "df = df[(df['delta'] >= 0) | (df['price_change'] != 1)] # if price went up and delta was negative we remove it\n",
    "df = df[(df['delta'] < 0) | (df['price_change'] != 2)] # if price went down and delta was positive we remove it \n",
    "df.shape[0]"
   ],
   "metadata": {
    "collapsed": false,
    "ExecuteTime": {
     "end_time": "2023-12-05T16:53:31.841468900Z",
     "start_time": "2023-12-05T16:53:31.823391700Z"
    }
   },
   "id": "195978728dd29d1"
  },
  {
   "cell_type": "code",
   "execution_count": 15,
   "outputs": [
    {
     "name": "stdout",
     "output_type": "stream",
     "text": [
      "0.05   -14.4\n",
      "0.95    13.6\n",
      "Name: delta, dtype: float64\n"
     ]
    },
    {
     "data": {
      "text/plain": "6286"
     },
     "execution_count": 15,
     "metadata": {},
     "output_type": "execute_result"
    }
   ],
   "source": [
    "# We will remove top 5% and bottom 5% of rows where the price stays unchanged based on delta\n",
    "condition = (df['price_change'] == 0)\n",
    "outliers = df[condition]['delta'].quantile([0.05, 0.95]) # -20.7 to 25.3\n",
    "print(outliers)\n",
    "# Remove outliers from the original DataFrame\n",
    "df = df[~((df['price_change'] == 0) & ((df['delta'] < outliers[0.05]) | (df['delta'] > outliers[0.95])))]\n",
    "df.shape[0]"
   ],
   "metadata": {
    "collapsed": false,
    "ExecuteTime": {
     "end_time": "2023-12-05T16:53:50.323465100Z",
     "start_time": "2023-12-05T16:53:50.288577900Z"
    }
   },
   "id": "90e5e864a5af4701"
  },
  {
   "cell_type": "markdown",
   "source": [
    "### Let's explore our data some more"
   ],
   "metadata": {
    "collapsed": false
   },
   "id": "1a7d584025ec81d7"
  },
  {
   "cell_type": "code",
   "execution_count": 16,
   "outputs": [
    {
     "name": "stdout",
     "output_type": "stream",
     "text": [
      "-1.8743155149934811\n",
      "22.493981481481484\n",
      "-16.940513552068474\n"
     ]
    }
   ],
   "source": [
    "noChange = df[df['price_change'] == 0]\n",
    "priceUp = df[df['price_change'] == 1]\n",
    "priceDown = df[df['price_change'] == 2]\n",
    "print(noChange['delta'].mean())\n",
    "print(priceUp['delta'].mean())\n",
    "print(priceDown['delta'].mean())"
   ],
   "metadata": {
    "collapsed": false,
    "ExecuteTime": {
     "end_time": "2023-12-05T16:53:56.947905100Z",
     "start_time": "2023-12-05T16:53:56.935105500Z"
    }
   },
   "id": "8edb1c07cf8f0900"
  },
  {
   "cell_type": "code",
   "execution_count": 25,
   "outputs": [
    {
     "data": {
      "text/plain": "<Figure size 1800x800 with 2 Axes>",
      "image/png": "[encoded data removed]"
     },
     "metadata": {},
     "output_type": "display_data"
    },
    {
     "name": "stdout",
     "output_type": "stream",
     "text": [
      "Correlation for delta: 0.38154642252043675\n",
      "Correlation for transfers balance: 0.372332184877063\n"
     ]
    }
   ],
   "source": [
    "fig, (ax1, ax2) = plt.subplots(1, 2, figsize=(18, 8))\n",
    "\n",
    "#plt.title('Relationship between previous points and the transfer changes')\n",
    "sns.regplot(x=df['previous_points'], y=df['delta'], scatter_kws={'alpha':0.3}, ax=ax1)\n",
    "ax1.set_title(\"Delta vs previous points\")\n",
    "\n",
    "sns.regplot(x=df['previous_points'], y=df['transfers_balance'], scatter_kws={'alpha':0.3}, ax=ax2)\n",
    "ax2.set_title(\"Transfers balance vs previous points\")\n",
    "plt.show()\n",
    "\n",
    "transfersCC = np.corrcoef(df['previous_points'], df['transfers_balance'])[0, 1]\n",
    "deltaCC = np.corrcoef(df['previous_points'], df['delta'])[0, 1]\n",
    "print(f'Correlation for delta: {deltaCC}')\n",
    "print(f'Correlation for transfers balance: {transfersCC}')"
   ],
   "metadata": {
    "collapsed": false,
    "ExecuteTime": {
     "end_time": "2023-12-05T17:04:42.282643200Z",
     "start_time": "2023-12-05T17:04:40.742419400Z"
    }
   },
   "id": "82dd284b2f69d49f"
  },
  {
   "cell_type": "code",
   "execution_count": null,
   "outputs": [],
   "source": [
    "sns.regplot(x=noChange['previous_points'], y=noChange['delta'], scatter_kws={'alpha':0.3})\n",
    "correlation_coefficient = np.corrcoef(noChange['previous_points'], noChange['delta'])[0, 1]\n",
    "print(f'Correlation: {correlation_coefficient}')"
   ],
   "metadata": {
    "collapsed": false
   },
   "id": "127104290232a3eb"
  },
  {
   "cell_type": "markdown",
   "source": [
    "More to add here..."
   ],
   "metadata": {
    "collapsed": false
   },
   "id": "307f989342e501c1"
  },
  {
   "cell_type": "markdown",
   "source": [
    "We need to standardize the data so that large values don't have more effect on the model than they should.\n",
    "Also we split the data into training and test data"
   ],
   "metadata": {
    "collapsed": false
   },
   "id": "777d2c76a38b7771"
  },
  {
   "cell_type": "code",
   "execution_count": 27,
   "outputs": [
    {
     "data": {
      "text/plain": "      previous_points  selected  transfers_balance     delta\n0           -0.537371 -0.273379          -0.058900 -0.417877\n1           -0.537371 -0.280670          -0.088164 -0.935441\n2           -0.537371 -0.291357          -0.108224 -1.497622\n3           -0.537371 -0.311037          -0.038043 -0.444648\n4           -0.537371 -0.311564          -0.034398 -0.355413\n...               ...       ...                ...       ...\n6281        -0.537371 -0.354708          -0.011290  0.742179\n6282        -0.537371 -0.354669          -0.011807  0.028298\n6283        -0.537371 -0.355189          -0.011329  1.295436\n6284        -0.537371 -0.355115          -0.011309  1.161583\n6285        -0.537371 -0.355065          -0.011439  0.751102\n\n[6286 rows x 4 columns]",
      "text/html": "<div>\n<style scoped>\n    .dataframe tbody tr th:only-of-type {\n        vertical-align: middle;\n    }\n\n    .dataframe tbody tr th {\n        vertical-align: top;\n    }\n\n    .dataframe thead th {\n        text-align: right;\n    }\n</style>\n<table border=\"1\" class=\"dataframe\">\n  <thead>\n    <tr style=\"text-align: right;\">\n      <th></th>\n      <th>previous_points</th>\n      <th>selected</th>\n      <th>transfers_balance</th>\n      <th>delta</th>\n    </tr>\n  </thead>\n  <tbody>\n    <tr>\n      <th>0</th>\n      <td>-0.537371</td>\n      <td>-0.273379</td>\n      <td>-0.058900</td>\n      <td>-0.417877</td>\n    </tr>\n    <tr>\n      <th>1</th>\n      <td>-0.537371</td>\n      <td>-0.280670</td>\n      <td>-0.088164</td>\n      <td>-0.935441</td>\n    </tr>\n    <tr>\n      <th>2</th>\n      <td>-0.537371</td>\n      <td>-0.291357</td>\n      <td>-0.108224</td>\n      <td>-1.497622</td>\n    </tr>\n    <tr>\n      <th>3</th>\n      <td>-0.537371</td>\n      <td>-0.311037</td>\n      <td>-0.038043</td>\n      <td>-0.444648</td>\n    </tr>\n    <tr>\n      <th>4</th>\n      <td>-0.537371</td>\n      <td>-0.311564</td>\n      <td>-0.034398</td>\n      <td>-0.355413</td>\n    </tr>\n    <tr>\n      <th>...</th>\n      <td>...</td>\n      <td>...</td>\n      <td>...</td>\n      <td>...</td>\n    </tr>\n    <tr>\n      <th>6281</th>\n      <td>-0.537371</td>\n      <td>-0.354708</td>\n      <td>-0.011290</td>\n      <td>0.742179</td>\n    </tr>\n    <tr>\n      <th>6282</th>\n      <td>-0.537371</td>\n      <td>-0.354669</td>\n      <td>-0.011807</td>\n      <td>0.028298</td>\n    </tr>\n    <tr>\n      <th>6283</th>\n      <td>-0.537371</td>\n      <td>-0.355189</td>\n      <td>-0.011329</td>\n      <td>1.295436</td>\n    </tr>\n    <tr>\n      <th>6284</th>\n      <td>-0.537371</td>\n      <td>-0.355115</td>\n      <td>-0.011309</td>\n      <td>1.161583</td>\n    </tr>\n    <tr>\n      <th>6285</th>\n      <td>-0.537371</td>\n      <td>-0.355065</td>\n      <td>-0.011439</td>\n      <td>0.751102</td>\n    </tr>\n  </tbody>\n</table>\n<p>6286 rows × 4 columns</p>\n</div>"
     },
     "execution_count": 27,
     "metadata": {},
     "output_type": "execute_result"
    }
   ],
   "source": [
    "X = df.drop(['price_change', 'player_id'], axis=1)  # Exclude the target column\n",
    "y = df['price_change']  # The target column\n",
    "\n",
    "scaler = StandardScaler()\n",
    "X_standardized = scaler.fit_transform(X) # This standardizes the data\n",
    "\n",
    "# Create a new DataFrame with standardized data\n",
    "X = pd.DataFrame(X_standardized, columns=X.columns)\n",
    "X"
   ],
   "metadata": {
    "collapsed": false,
    "ExecuteTime": {
     "end_time": "2023-12-05T17:17:35.988532Z",
     "start_time": "2023-12-05T17:17:35.965221800Z"
    }
   },
   "id": "aad7529da38c1168"
  },
  {
   "cell_type": "code",
   "execution_count": 28,
   "outputs": [],
   "source": [
    "X_train, X_test, y_train, y_test = train_test_split(X, y, test_size=0.2, random_state=42)"
   ],
   "metadata": {
    "collapsed": false,
    "ExecuteTime": {
     "end_time": "2023-12-05T17:17:57.354462500Z",
     "start_time": "2023-12-05T17:17:57.304542600Z"
    }
   },
   "id": "feb24c933b039d20"
  },
  {
   "cell_type": "markdown",
   "source": [
    "### Create a SVM model to predict the price change of a player"
   ],
   "metadata": {
    "collapsed": false
   },
   "id": "ce2e964c5f7995ed"
  },
  {
   "cell_type": "code",
   "execution_count": 29,
   "outputs": [
    {
     "name": "stdout",
     "output_type": "stream",
     "text": [
      "Accuracy: 0.91\n",
      "              precision    recall  f1-score   support\n",
      "\n",
      "           0       0.91      1.00      0.95      1086\n",
      "           1       0.89      0.78      0.83        40\n",
      "           2       0.97      0.24      0.39       132\n",
      "\n",
      "    accuracy                           0.91      1258\n",
      "   macro avg       0.92      0.67      0.72      1258\n",
      "weighted avg       0.91      0.91      0.89      1258\n",
      "\n",
      "[[1081    4    1]\n",
      " [   9   31    0]\n",
      " [ 100    0   32]]\n"
     ]
    }
   ],
   "source": [
    "#class_weights = {0: 1, 1: 1, 2: 1}\n",
    "svm_classifier = SVC(kernel='linear', C=1, decision_function_shape='ovr', probability=True) #class_weight=class_weights)  # 'ovr' for multiclass\n",
    "svm_classifier.fit(X_train, y_train)\n",
    "\n",
    "# Make predictions on the test set\n",
    "y_pred = svm_classifier.predict(X_test)\n",
    "\n",
    "# Evaluate the model\n",
    "accuracy = accuracy_score(y_test, y_pred)\n",
    "print(f\"Accuracy: {accuracy:.2f}\")\n",
    "\n",
    "# Print other metrics like classification report and confusion matrix\n",
    "print(classification_report(y_test, y_pred))\n",
    "print(confusion_matrix(y_test, y_pred))"
   ],
   "metadata": {
    "collapsed": false,
    "ExecuteTime": {
     "end_time": "2023-12-05T17:19:24.720042800Z",
     "start_time": "2023-12-05T17:19:23.017473500Z"
    }
   },
   "id": "fc08de9bb48b2947"
  },
  {
   "cell_type": "code",
   "execution_count": 30,
   "outputs": [
    {
     "data": {
      "text/plain": "      Probability_0  Probability_1  Probability_2  True_Label\n0          0.988817       0.003825       0.007358           0\n1          0.982003       0.007301       0.010696           0\n2          0.892381       0.001179       0.106440           2\n3          0.967663       0.025901       0.006436           0\n4          0.924939       0.001511       0.073550           0\n...             ...            ...            ...         ...\n1253       0.953965       0.000891       0.045144           0\n1254       0.921629       0.001436       0.076935           2\n1255       0.941896       0.001750       0.056353           2\n1256       0.982852       0.008828       0.008320           0\n1257       0.789362       0.000730       0.209908           0\n\n[1258 rows x 4 columns]",
      "text/html": "<div>\n<style scoped>\n    .dataframe tbody tr th:only-of-type {\n        vertical-align: middle;\n    }\n\n    .dataframe tbody tr th {\n        vertical-align: top;\n    }\n\n    .dataframe thead th {\n        text-align: right;\n    }\n</style>\n<table border=\"1\" class=\"dataframe\">\n  <thead>\n    <tr style=\"text-align: right;\">\n      <th></th>\n      <th>Probability_0</th>\n      <th>Probability_1</th>\n      <th>Probability_2</th>\n      <th>True_Label</th>\n    </tr>\n  </thead>\n  <tbody>\n    <tr>\n      <th>0</th>\n      <td>0.988817</td>\n      <td>0.003825</td>\n      <td>0.007358</td>\n      <td>0</td>\n    </tr>\n    <tr>\n      <th>1</th>\n      <td>0.982003</td>\n      <td>0.007301</td>\n      <td>0.010696</td>\n      <td>0</td>\n    </tr>\n    <tr>\n      <th>2</th>\n      <td>0.892381</td>\n      <td>0.001179</td>\n      <td>0.106440</td>\n      <td>2</td>\n    </tr>\n    <tr>\n      <th>3</th>\n      <td>0.967663</td>\n      <td>0.025901</td>\n      <td>0.006436</td>\n      <td>0</td>\n    </tr>\n    <tr>\n      <th>4</th>\n      <td>0.924939</td>\n      <td>0.001511</td>\n      <td>0.073550</td>\n      <td>0</td>\n    </tr>\n    <tr>\n      <th>...</th>\n      <td>...</td>\n      <td>...</td>\n      <td>...</td>\n      <td>...</td>\n    </tr>\n    <tr>\n      <th>1253</th>\n      <td>0.953965</td>\n      <td>0.000891</td>\n      <td>0.045144</td>\n      <td>0</td>\n    </tr>\n    <tr>\n      <th>1254</th>\n      <td>0.921629</td>\n      <td>0.001436</td>\n      <td>0.076935</td>\n      <td>2</td>\n    </tr>\n    <tr>\n      <th>1255</th>\n      <td>0.941896</td>\n      <td>0.001750</td>\n      <td>0.056353</td>\n      <td>2</td>\n    </tr>\n    <tr>\n      <th>1256</th>\n      <td>0.982852</td>\n      <td>0.008828</td>\n      <td>0.008320</td>\n      <td>0</td>\n    </tr>\n    <tr>\n      <th>1257</th>\n      <td>0.789362</td>\n      <td>0.000730</td>\n      <td>0.209908</td>\n      <td>0</td>\n    </tr>\n  </tbody>\n</table>\n<p>1258 rows × 4 columns</p>\n</div>"
     },
     "execution_count": 30,
     "metadata": {},
     "output_type": "execute_result"
    }
   ],
   "source": [
    "probabilities = svm_classifier.predict_proba(X_test)\n",
    "result_df = pd.DataFrame(probabilities, columns=[f'Probability_{i}' for i in range(svm_classifier.classes_.shape[0])])\n",
    "result_df['True_Label'] = y_test.reset_index(drop=True)\n",
    "result_df"
   ],
   "metadata": {
    "collapsed": false,
    "ExecuteTime": {
     "end_time": "2023-12-05T17:20:04.038784Z",
     "start_time": "2023-12-05T17:20:03.950189500Z"
    }
   },
   "id": "a3b80321b60e10e3"
  },
  {
   "cell_type": "markdown",
   "source": [
    "### Try a neural network"
   ],
   "metadata": {
    "collapsed": false
   },
   "id": "6d9d9ba09c83a44d"
  },
  {
   "cell_type": "code",
   "execution_count": 31,
   "outputs": [
    {
     "data": {
      "text/plain": "(5028, 4)"
     },
     "execution_count": 31,
     "metadata": {},
     "output_type": "execute_result"
    }
   ],
   "source": [
    "X_train.shape"
   ],
   "metadata": {
    "collapsed": false,
    "ExecuteTime": {
     "end_time": "2023-12-05T17:22:31.592367100Z",
     "start_time": "2023-12-05T17:22:31.533015700Z"
    }
   },
   "id": "c958b93dca92c057"
  },
  {
   "cell_type": "code",
   "execution_count": 83,
   "outputs": [
    {
     "name": "stdout",
     "output_type": "stream",
     "text": [
      "Epoch 1/20\n",
      "126/126 [==============================] - 2s 5ms/step - loss: 0.5378 - accuracy: 0.8560 - val_loss: 0.2909 - val_accuracy: 0.9145\n",
      "Epoch 2/20\n",
      "126/126 [==============================] - 0s 3ms/step - loss: 0.2810 - accuracy: 0.9090 - val_loss: 0.2733 - val_accuracy: 0.9125\n",
      "Epoch 3/20\n",
      "126/126 [==============================] - 0s 3ms/step - loss: 0.2714 - accuracy: 0.9105 - val_loss: 0.2652 - val_accuracy: 0.9145\n",
      "Epoch 4/20\n",
      "126/126 [==============================] - 0s 3ms/step - loss: 0.2653 - accuracy: 0.9125 - val_loss: 0.2604 - val_accuracy: 0.9165\n",
      "Epoch 5/20\n",
      "126/126 [==============================] - 0s 4ms/step - loss: 0.2612 - accuracy: 0.9145 - val_loss: 0.2607 - val_accuracy: 0.9135\n",
      "Epoch 6/20\n",
      "126/126 [==============================] - 0s 4ms/step - loss: 0.2582 - accuracy: 0.9157 - val_loss: 0.2777 - val_accuracy: 0.8917\n",
      "Epoch 7/20\n",
      "126/126 [==============================] - 0s 3ms/step - loss: 0.2572 - accuracy: 0.9155 - val_loss: 0.2544 - val_accuracy: 0.9225\n",
      "Epoch 8/20\n",
      "126/126 [==============================] - 0s 3ms/step - loss: 0.2581 - accuracy: 0.9150 - val_loss: 0.2603 - val_accuracy: 0.9175\n",
      "Epoch 9/20\n",
      "126/126 [==============================] - 0s 3ms/step - loss: 0.2549 - accuracy: 0.9120 - val_loss: 0.2604 - val_accuracy: 0.9155\n",
      "Epoch 10/20\n",
      "126/126 [==============================] - 0s 4ms/step - loss: 0.2530 - accuracy: 0.9177 - val_loss: 0.2578 - val_accuracy: 0.9145\n",
      "Epoch 11/20\n",
      "126/126 [==============================] - 0s 3ms/step - loss: 0.2545 - accuracy: 0.9135 - val_loss: 0.2493 - val_accuracy: 0.9195\n",
      "Epoch 12/20\n",
      "126/126 [==============================] - 0s 3ms/step - loss: 0.2530 - accuracy: 0.9162 - val_loss: 0.2535 - val_accuracy: 0.9195\n",
      "Epoch 13/20\n",
      "126/126 [==============================] - 0s 4ms/step - loss: 0.2502 - accuracy: 0.9160 - val_loss: 0.2448 - val_accuracy: 0.9235\n",
      "Epoch 14/20\n",
      "126/126 [==============================] - 0s 4ms/step - loss: 0.2494 - accuracy: 0.9160 - val_loss: 0.2509 - val_accuracy: 0.9215\n",
      "Epoch 15/20\n",
      "126/126 [==============================] - 0s 4ms/step - loss: 0.2516 - accuracy: 0.9155 - val_loss: 0.2465 - val_accuracy: 0.9274\n",
      "Epoch 16/20\n",
      "126/126 [==============================] - 0s 3ms/step - loss: 0.2474 - accuracy: 0.9152 - val_loss: 0.2476 - val_accuracy: 0.9185\n",
      "Epoch 17/20\n",
      "126/126 [==============================] - 0s 4ms/step - loss: 0.2468 - accuracy: 0.9172 - val_loss: 0.2525 - val_accuracy: 0.9185\n",
      "Epoch 18/20\n",
      "126/126 [==============================] - 1s 4ms/step - loss: 0.2475 - accuracy: 0.9152 - val_loss: 0.2493 - val_accuracy: 0.9225\n",
      "Epoch 19/20\n",
      "126/126 [==============================] - 1s 4ms/step - loss: 0.2452 - accuracy: 0.9180 - val_loss: 0.2569 - val_accuracy: 0.9145\n",
      "Epoch 20/20\n",
      "126/126 [==============================] - 1s 4ms/step - loss: 0.2477 - accuracy: 0.9175 - val_loss: 0.2415 - val_accuracy: 0.9235\n"
     ]
    },
    {
     "data": {
      "text/plain": "<keras.src.callbacks.History at 0x2314f9c2210>"
     },
     "execution_count": 83,
     "metadata": {},
     "output_type": "execute_result"
    }
   ],
   "source": [
    "nnModel = Sequential()\n",
    "\n",
    "# Input layer with 4 inputs\n",
    "nnModel.add(Dense(64, input_shape=(4,), activation='relu'))\n",
    "\n",
    "# Hidden layers\n",
    "nnModel.add(Dense(64, activation='relu'))\n",
    "nnModel.add(Dense(32, activation='relu', kernel_regularizer=l1_l2(l1=1e-5, l2=1e-4)))\n",
    "\n",
    "# Output layer with 3 outputs\n",
    "nnModel.add(Dense(3, activation='softmax'))\n",
    "\n",
    "optimizer = Adam()\n",
    "# Compile the model\n",
    "nnModel.compile(optimizer=optimizer, loss='sparse_categorical_crossentropy', metrics=['accuracy'])\n",
    "\n",
    "early_stopping = EarlyStopping(monitor='val_loss', patience=3, verbose=1, mode='min', restore_best_weights=True)\n",
    "\n",
    "# Train the model\n",
    "nnModel.fit(X_train, y_train, epochs=20, batch_size=32, validation_split=0.2)#, callbacks=[early_stopping])\n",
    "\n",
    "loss, accuracy = nnModel.evaluate(X_test, y_test)\n",
    "print(f'Accuracy: {accuracy * 100:.2f}%')"
   ],
   "metadata": {
    "collapsed": false,
    "ExecuteTime": {
     "end_time": "2023-12-05T21:13:42.724638300Z",
     "start_time": "2023-12-05T21:13:31.555339300Z"
    }
   },
   "id": "41af6d3e09a6e6d2"
  },
  {
   "cell_type": "code",
   "execution_count": 84,
   "outputs": [
    {
     "name": "stdout",
     "output_type": "stream",
     "text": [
      "40/40 [==============================] - 0s 4ms/step - loss: 0.2479 - accuracy: 0.9189\n",
      "Accuracy: 91.89%\n"
     ]
    }
   ],
   "source": [
    "loss, accuracy = nnModel.evaluate(X_test, y_test)\n",
    "print(f'Accuracy: {accuracy * 100:.2f}%')"
   ],
   "metadata": {
    "collapsed": false,
    "ExecuteTime": {
     "end_time": "2023-12-05T21:13:45.100220300Z",
     "start_time": "2023-12-05T21:13:44.821953300Z"
    }
   },
   "id": "5c7a36cc8749ad42"
  },
  {
   "cell_type": "code",
   "execution_count": 85,
   "outputs": [
    {
     "name": "stdout",
     "output_type": "stream",
     "text": [
      "40/40 [==============================] - 0s 2ms/step\n",
      "Confusion Matrix:\n",
      "[[1078    6    2]\n",
      " [   7   33    0]\n",
      " [  87    0   45]]\n",
      "Classification Report:\n",
      "              precision    recall  f1-score   support\n",
      "\n",
      "           0       0.92      0.99      0.95      1086\n",
      "           1       0.85      0.82      0.84        40\n",
      "           2       0.96      0.34      0.50       132\n",
      "\n",
      "    accuracy                           0.92      1258\n",
      "   macro avg       0.91      0.72      0.76      1258\n",
      "weighted avg       0.92      0.92      0.90      1258\n"
     ]
    }
   ],
   "source": [
    "y_pred_probs = nnModel.predict(X_test)\n",
    "y_pred = np.argmax(y_pred_probs, axis=1)\n",
    "\n",
    "# Calculate the confusion matrix\n",
    "cm = confusion_matrix(y_test, y_pred)\n",
    "print(\"Confusion Matrix:\")\n",
    "print(cm)\n",
    "\n",
    "# Calculate precision, recall, and F1 score\n",
    "classification_rep = classification_report(y_test, y_pred)\n",
    "print(\"Classification Report:\")\n",
    "print(classification_rep)"
   ],
   "metadata": {
    "collapsed": false,
    "ExecuteTime": {
     "end_time": "2023-12-05T21:14:02.114877200Z",
     "start_time": "2023-12-05T21:14:01.790883300Z"
    }
   },
   "id": "63cd8906952d1f6"
  },
  {
   "cell_type": "markdown",
   "source": [
    "### Try Random Forest\n",
    "\n",
    "Using RandomizedSearchCV to find the best hyperparameters"
   ],
   "metadata": {
    "collapsed": false
   },
   "id": "4a7ebd1592d87d25"
  },
  {
   "cell_type": "code",
   "execution_count": 89,
   "outputs": [],
   "source": [
    "param_dist = {\n",
    "    'n_estimators': [100, 200, 300, 400, 500],\n",
    "    'max_features': ['auto', 'sqrt', 'log2'],\n",
    "    'max_depth': [4, 5, 6, 7, 8, None],\n",
    "    'criterion': ['gini', 'entropy'],\n",
    "    'min_samples_split': [2, 5, 10],\n",
    "    'min_samples_leaf': [1, 2, 4]\n",
    "}"
   ],
   "metadata": {
    "collapsed": false,
    "ExecuteTime": {
     "end_time": "2023-12-05T21:18:43.975630500Z",
     "start_time": "2023-12-05T21:18:43.950414100Z"
    }
   },
   "id": "9b4f032bd281daa1"
  },
  {
   "cell_type": "code",
   "execution_count": 91,
   "outputs": [
    {
     "name": "stdout",
     "output_type": "stream",
     "text": [
      "Fitting 5 folds for each of 50 candidates, totalling 250 fits\n",
      "Best Parameters: {'n_estimators': 100, 'min_samples_split': 10, 'min_samples_leaf': 2, 'max_features': 'sqrt', 'max_depth': 4, 'criterion': 'gini'}\n"
     ]
    }
   ],
   "source": [
    "rf_classifier = RandomForestClassifier(random_state=42)\n",
    "random_search = RandomizedSearchCV(estimator=rf_classifier, param_distributions=param_dist, n_iter=50, cv=5, n_jobs=-1, verbose=1, random_state=42)\n",
    "\n",
    "random_search.fit(X_train, y_train)\n",
    "\n",
    "best_params = random_search.best_params_\n",
    "print(\"Best Parameters:\", best_params)\n"
   ],
   "metadata": {
    "collapsed": false,
    "ExecuteTime": {
     "end_time": "2023-12-05T21:25:22.042084200Z",
     "start_time": "2023-12-05T21:21:34.942143500Z"
    }
   },
   "id": "823f5e03cc862cdb"
  },
  {
   "cell_type": "code",
   "execution_count": 92,
   "outputs": [],
   "source": [
    "best_rf_model = random_search.best_estimator_\n",
    "\n",
    "y_pred = best_rf_model.predict(X_test)"
   ],
   "metadata": {
    "collapsed": false,
    "ExecuteTime": {
     "end_time": "2023-12-05T21:29:12.807439700Z",
     "start_time": "2023-12-05T21:29:12.736399500Z"
    }
   },
   "id": "1f74133ab372df5"
  },
  {
   "cell_type": "code",
   "execution_count": 93,
   "outputs": [
    {
     "name": "stdout",
     "output_type": "stream",
     "text": [
      "Accuracy: 92.13%\n",
      "              precision    recall  f1-score   support\n",
      "\n",
      "           0       0.92      1.00      0.96      1086\n",
      "           1       0.88      0.75      0.81        40\n",
      "           2       1.00      0.36      0.53       132\n",
      "\n",
      "    accuracy                           0.92      1258\n",
      "   macro avg       0.93      0.70      0.76      1258\n",
      "weighted avg       0.93      0.92      0.91      1258\n"
     ]
    }
   ],
   "source": [
    "# Calculate accuracy\n",
    "accuracy = accuracy_score(y_test, y_pred)\n",
    "print(f'Accuracy: {accuracy * 100:.2f}%')\n",
    "\n",
    "# Print a classification report for more detailed metrics\n",
    "print(classification_report(y_test, y_pred))"
   ],
   "metadata": {
    "collapsed": false,
    "ExecuteTime": {
     "end_time": "2023-12-05T21:30:05.785505Z",
     "start_time": "2023-12-05T21:30:05.757442600Z"
    }
   },
   "id": "cf94ba3a3d336812"
  },
  {
   "cell_type": "code",
   "execution_count": 94,
   "outputs": [
    {
     "name": "stdout",
     "output_type": "stream",
     "text": [
      "[[1082    4    0]\n",
      " [  10   30    0]\n",
      " [  85    0   47]]\n"
     ]
    }
   ],
   "source": [
    "print(confusion_matrix(y_test, y_pred))"
   ],
   "metadata": {
    "collapsed": false,
    "ExecuteTime": {
     "end_time": "2023-12-05T21:42:02.083592100Z",
     "start_time": "2023-12-05T21:42:02.063829200Z"
    }
   },
   "id": "66b2118cb292ba67"
  },
  {
   "cell_type": "markdown",
   "source": [
    "### Let's try XGBoost too"
   ],
   "metadata": {
    "collapsed": false
   },
   "id": "5a4ba19bc1da0889"
  },
  {
   "cell_type": "code",
   "execution_count": 97,
   "outputs": [
    {
     "name": "stdout",
     "output_type": "stream",
     "text": [
      "Accuracy: 0.91\n"
     ]
    }
   ],
   "source": [
    "model = xgb.XGBClassifier(objective='multi:softmax', num_class=len(set(y)), eval_metric='mlogloss')\n",
    "\n",
    "# Train the model\n",
    "model.fit(X_train, y_train)\n",
    "\n",
    "# Make predictions on the test set\n",
    "y_pred = model.predict(X_test)\n",
    "\n",
    "# Evaluate the accuracy\n",
    "accuracy = accuracy_score(y_test, y_pred)\n",
    "print(f\"Accuracy: {accuracy:.2f}\")"
   ],
   "metadata": {
    "collapsed": false,
    "ExecuteTime": {
     "end_time": "2023-12-05T21:43:16.551696500Z",
     "start_time": "2023-12-05T21:43:16.195625600Z"
    }
   },
   "id": "efebae1c14bd71f1"
  },
  {
   "cell_type": "code",
   "execution_count": 98,
   "outputs": [
    {
     "name": "stdout",
     "output_type": "stream",
     "text": [
      "Confusion Matrix:\n",
      "[[1063    4   19]\n",
      " [   9   31    0]\n",
      " [  84    0   48]]\n",
      "Classification Report:\n",
      "              precision    recall  f1-score   support\n",
      "\n",
      "           0       0.92      0.98      0.95      1086\n",
      "           1       0.89      0.78      0.83        40\n",
      "           2       0.72      0.36      0.48       132\n",
      "\n",
      "    accuracy                           0.91      1258\n",
      "   macro avg       0.84      0.71      0.75      1258\n",
      "weighted avg       0.90      0.91      0.90      1258\n"
     ]
    }
   ],
   "source": [
    "cm = confusion_matrix(y_test, y_pred)\n",
    "print(\"Confusion Matrix:\")\n",
    "print(cm)\n",
    "\n",
    "# Classification Report\n",
    "report = classification_report(y_test, y_pred)\n",
    "print(\"Classification Report:\")\n",
    "print(report)"
   ],
   "metadata": {
    "collapsed": false,
    "ExecuteTime": {
     "end_time": "2023-12-05T21:43:19.651656100Z",
     "start_time": "2023-12-05T21:43:19.576019Z"
    }
   },
   "id": "425173e554dd9511"
  },
  {
   "cell_type": "markdown",
   "source": [
    "### Let's try an ensemble"
   ],
   "metadata": {
    "collapsed": false
   },
   "id": "331d8de23178ff34"
  },
  {
   "cell_type": "code",
   "execution_count": 102,
   "outputs": [
    {
     "name": "stdout",
     "output_type": "stream",
     "text": [
      "Ensemble Accuracy: 0.920\n"
     ]
    }
   ],
   "source": [
    "# Create an ensemble using VotingClassifier\n",
    "ensemble_model = VotingClassifier(estimators=[('svm', svm_classifier), ('rf', best_rf_model)], voting='soft')\n",
    "\n",
    "# Train the ensemble model\n",
    "ensemble_model.fit(X_train, y_train)\n",
    "\n",
    "# Make predictions on the test set\n",
    "y_pred = ensemble_model.predict(X_test)\n",
    "\n",
    "# Evaluate the accuracy\n",
    "accuracy = accuracy_score(y_test, y_pred)\n",
    "print(f\"Ensemble Accuracy: {accuracy:.3f}\")"
   ],
   "metadata": {
    "collapsed": false,
    "ExecuteTime": {
     "end_time": "2023-12-05T21:50:15.409037800Z",
     "start_time": "2023-12-05T21:50:12.710975500Z"
    }
   },
   "id": "68f5ca5afeff65f"
  },
  {
   "cell_type": "code",
   "execution_count": 103,
   "outputs": [
    {
     "name": "stdout",
     "output_type": "stream",
     "text": [
      "Confusion Matrix:\n",
      "[[1080    4    2]\n",
      " [  10   30    0]\n",
      " [  85    0   47]]\n",
      "Classification Report:\n",
      "              precision    recall  f1-score   support\n",
      "\n",
      "           0       0.92      0.99      0.96      1086\n",
      "           1       0.88      0.75      0.81        40\n",
      "           2       0.96      0.36      0.52       132\n",
      "\n",
      "    accuracy                           0.92      1258\n",
      "   macro avg       0.92      0.70      0.76      1258\n",
      "weighted avg       0.92      0.92      0.90      1258\n"
     ]
    }
   ],
   "source": [
    "cm = confusion_matrix(y_test, y_pred)\n",
    "print(\"Confusion Matrix:\")\n",
    "print(cm)\n",
    "\n",
    "# Classification Report\n",
    "report = classification_report(y_test, y_pred)\n",
    "print(\"Classification Report:\")\n",
    "print(report)"
   ],
   "metadata": {
    "collapsed": false,
    "ExecuteTime": {
     "end_time": "2023-12-05T21:50:43.613510900Z",
     "start_time": "2023-12-05T21:50:43.542906900Z"
    }
   },
   "id": "b70e7990bcb43026"
  },
  {
   "cell_type": "markdown",
   "source": [
    "We see that this ensemble doesn't improve the random forest model, so it's not worth it.\n",
    "Let's save best_rf_model as a model"
   ],
   "metadata": {
    "collapsed": false
   },
   "id": "476129f8a4934f4a"
  },
  {
   "cell_type": "code",
   "execution_count": 106,
   "outputs": [
    {
     "data": {
      "text/plain": "['best_rf_model.joblib']"
     },
     "execution_count": 106,
     "metadata": {},
     "output_type": "execute_result"
    }
   ],
   "source": [
    "joblib.dump(best_rf_model, 'best_rf_model.joblib')"
   ],
   "metadata": {
    "collapsed": false,
    "ExecuteTime": {
     "end_time": "2023-12-05T21:53:59.482323Z",
     "start_time": "2023-12-05T21:53:59.388160Z"
    }
   },
   "id": "f3472271570274b4"
  },
  {
   "cell_type": "markdown",
   "source": [
    "### If we need to load our model we can use the following"
   ],
   "metadata": {
    "collapsed": false
   },
   "id": "f87f17eafeb14761"
  },
  {
   "cell_type": "code",
   "execution_count": null,
   "outputs": [],
   "source": [
    "loaded_rf_model = joblib.load('best_rf_model.joblib')"
   ],
   "metadata": {
    "collapsed": false
   },
   "id": "3aef093501bf64cd"
  }
 ],
 "metadata": {
  "kernelspec": {
   "display_name": "Python 3",
   "language": "python",
   "name": "python3"
  },
  "language_info": {
   "codemirror_mode": {
    "name": "ipython",
    "version": 2
   },
   "file_extension": ".py",
   "mimetype": "text/x-python",
   "name": "python",
   "nbconvert_exporter": "python",
   "pygments_lexer": "ipython2",
   "version": "2.7.6"
  }
 },
 "nbformat": 4,
 "nbformat_minor": 5
}
